{
 "cells": [
  {
   "cell_type": "code",
   "execution_count": null,
   "metadata": {},
   "outputs": [],
   "source": [
    "# Import dependencies\n",
    "import json\n",
    "import pandas as pd\n",
    "import numpy as np"
   ]
  },
  {
   "cell_type": "code",
   "execution_count": null,
   "metadata": {},
   "outputs": [],
   "source": [
    "# Define the file directory\n",
    "file_dir = \"C:/Users/evanm/Desktop/Classwork/Module 8 - Movies_ETL/Movies_ETL\""
   ]
  },
  {
   "cell_type": "code",
   "execution_count": null,
   "metadata": {},
   "outputs": [],
   "source": [
    "# Save the data as a list of dictionaries\n",
    "with open(f\"{file_dir}/wikipedia.movies.json\", mode=\"r\") as file:\n",
    "    wiki_movies_raw = json.load(file)"
   ]
  },
  {
   "cell_type": "code",
   "execution_count": null,
   "metadata": {},
   "outputs": [],
   "source": [
    "len(wiki_movies_raw)"
   ]
  },
  {
   "cell_type": "code",
   "execution_count": null,
   "metadata": {},
   "outputs": [],
   "source": [
    "# First five records\n",
    "wiki_movies_raw[:5]"
   ]
  },
  {
   "cell_type": "code",
   "execution_count": null,
   "metadata": {},
   "outputs": [],
   "source": [
    "# Last five records\n",
    "wiki_movies_raw[-5:]"
   ]
  },
  {
   "cell_type": "code",
   "execution_count": null,
   "metadata": {},
   "outputs": [],
   "source": [
    "# Some records in the middle\n",
    "wiki_movies_raw[3600:3605]"
   ]
  },
  {
   "cell_type": "code",
   "execution_count": null,
   "metadata": {},
   "outputs": [],
   "source": [
    "# Load the csv files into dataframes\n",
    "movies_metadata = pd.read_csv(f\"{file_dir}/movies_metadata.csv\", low_memory=False)\n",
    "ratings = pd.read_csv(f\"{file_dir}/ratings.csv\")"
   ]
  },
  {
   "cell_type": "code",
   "execution_count": null,
   "metadata": {},
   "outputs": [],
   "source": [
    "# Load the wiki data into a dataframe\n",
    "wiki_movies_df = pd.DataFrame(wiki_movies_raw)"
   ]
  },
  {
   "cell_type": "code",
   "execution_count": null,
   "metadata": {},
   "outputs": [],
   "source": [
    "wiki_movies_df.head()"
   ]
  },
  {
   "cell_type": "code",
   "execution_count": null,
   "metadata": {},
   "outputs": [],
   "source": [
    "# Find all the column names\n",
    "wiki_movies_df.columns.tolist()"
   ]
  },
  {
   "cell_type": "code",
   "execution_count": null,
   "metadata": {},
   "outputs": [],
   "source": [
    "# List comprehension for director and imdb link\n",
    "wiki_movies = [movie for movie in wiki_movies_raw\n",
    "              if (\"Director\" in movie or \"Directed by\" in movie)\n",
    "                  and \"imdb_link\" in movie]\n",
    "len(wiki_movies)"
   ]
  },
  {
   "cell_type": "code",
   "execution_count": null,
   "metadata": {},
   "outputs": [],
   "source": [
    "# Convert wiki_movies into a dataframe\n",
    "wiki_movies_new_df = pd.DataFrame(wiki_movies)\n",
    "wiki_movies_new_df"
   ]
  },
  {
   "cell_type": "code",
   "execution_count": null,
   "metadata": {},
   "outputs": [],
   "source": [
    "# List comprehension for director, imdb link and episodes\n",
    "wiki_movies = [movie for movie in wiki_movies_raw\n",
    "              if (\"Director\" in movie or \"Directed by\" in movie)\n",
    "                  and \"imdb_link\" in movie\n",
    "                  and \"No. of episodes\" not in movie]\n",
    "len(wiki_movies)"
   ]
  },
  {
   "cell_type": "code",
   "execution_count": null,
   "metadata": {},
   "outputs": [],
   "source": [
    "# Convert wiki_movies into a dataframe\n",
    "wiki_movies_new_df = pd.DataFrame(wiki_movies)\n",
    "wiki_movies_new_df"
   ]
  },
  {
   "cell_type": "code",
   "execution_count": null,
   "metadata": {},
   "outputs": [],
   "source": [
    "# Create a movie function\n",
    "def clean_movie(movie):\n",
    "    \n",
    "    # Create a non-destructive copy\n",
    "    movie = dict(movie)\n",
    "    # Create an empty dictionary to hold alternate titles\n",
    "    alt_titles = {}\n",
    "    # Loop through list of alternate title keys\n",
    "    for key in [\"Also know as\", \"Arabic\", \"Cantonese\", \"Chinese\", \"French\",\n",
    "               \"Hangul\", \"Hebrew\", \"Hepburn\", \"Japanese\", \"Literally\",\n",
    "               \"Mandarin\", \"McCune-Reischauer\", \"Original title\", \"Polish\",\n",
    "               \"Revised Romanization\", \"Romanized\", \"Russian\",\n",
    "               \"Simplified\", \"Traditional\", \"Yiddish\"]:\n",
    "        # If an alternate title exists, remove it and add to alt_titles\n",
    "        if key in movie:\n",
    "            alt_titles[key] = movie[key]\n",
    "            movie.pop(key)\n",
    "    # Add the alt_titles dictionary to the movie object\n",
    "    if len(alt_titles) > 0:\n",
    "        movie[\"alt_titles\"] = alt_titles\n",
    "    return movie"
   ]
  },
  {
   "cell_type": "code",
   "execution_count": null,
   "metadata": {},
   "outputs": [],
   "source": [
    "wiki_movies_new_df[wiki_movies_new_df[\"Arabic\"].notnull()][\"url\"]"
   ]
  },
  {
   "cell_type": "code",
   "execution_count": null,
   "metadata": {},
   "outputs": [],
   "source": [
    "wiki_movies_new_df[wiki_movies_new_df[\"Hepburn\"].notnull()][\"Hepburn\"]"
   ]
  },
  {
   "cell_type": "code",
   "execution_count": null,
   "metadata": {},
   "outputs": [],
   "source": [
    "# Use list comprehension with clean_movies function\n",
    "clean_movies = [clean_movie(movie) for movie in wiki_movies]"
   ]
  },
  {
   "cell_type": "code",
   "execution_count": null,
   "metadata": {},
   "outputs": [],
   "source": [
    "# Create a dataframe from clean_movies\n",
    "wiki_movies_df = pd.DataFrame(clean_movies)\n",
    "sorted(wiki_movies_df.columns.tolist())"
   ]
  },
  {
   "cell_type": "code",
   "execution_count": null,
   "metadata": {},
   "outputs": [],
   "source": []
  }
 ],
 "metadata": {
  "kernelspec": {
   "display_name": "PythonData",
   "language": "python",
   "name": "pythondata"
  },
  "language_info": {
   "codemirror_mode": {
    "name": "ipython",
    "version": 3
   },
   "file_extension": ".py",
   "mimetype": "text/x-python",
   "name": "python",
   "nbconvert_exporter": "python",
   "pygments_lexer": "ipython3",
   "version": "3.7.6"
  }
 },
 "nbformat": 4,
 "nbformat_minor": 4
}
